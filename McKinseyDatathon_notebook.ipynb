{
  "nbformat": 4,
  "nbformat_minor": 0,
  "metadata": {
    "kernelspec": {
      "name": "python3",
      "display_name": "Python 3"
    },
    "language_info": {
      "codemirror_mode": {
        "name": "ipython",
        "version": 3
      },
      "file_extension": ".py",
      "mimetype": "text/x-python",
      "name": "python",
      "nbconvert_exporter": "python",
      "pygments_lexer": "ipython3",
      "version": "3.7.3"
    },
    "colab": {
      "name": "McKinseyDatathon_notebook.ipynb",
      "provenance": [],
      "collapsed_sections": [
        "i39igoJlvkaU",
        "2zF5XUwwy6SJ"
      ],
      "toc_visible": true
    },
    "accelerator": "GPU"
  },
  "cells": [
    {
      "cell_type": "markdown",
      "metadata": {
        "id": "i39igoJlvkaU",
        "colab_type": "text"
      },
      "source": [
        "## Libraries"
      ]
    },
    {
      "cell_type": "code",
      "metadata": {
        "id": "PtTtuLcHvkaZ",
        "colab_type": "code",
        "colab": {}
      },
      "source": [
        "import pandas as pd\n",
        "import matplotlib.pyplot as plt\n",
        "import seaborn as sns\n",
        "import numpy as np\n",
        "from scipy.stats import norm\n",
        "import warnings\n",
        "from sklearn.model_selection import KFold\n",
        "from IPython.display import HTML, display, display_html\n",
        "import numbers\n",
        "warnings.filterwarnings('ignore')\n",
        "warnings.simplefilter(action='ignore')\n",
        "%matplotlib inline\n",
        "import matplotlib\n",
        "import statsmodels.api as sm\n",
        "from sklearn.model_selection import train_test_split\n",
        "import pandas_profiling\n",
        "import re\n",
        "import statsmodels.api as sm\n",
        "from sklearn.model_selection import train_test_split, RandomizedSearchCV\n",
        "from sklearn.model_selection import cross_val_score, cross_validate\n",
        "import math as math\n",
        "from scipy.stats import uniform, truncnorm, randint"
      ],
      "execution_count": 0,
      "outputs": []
    },
    {
      "cell_type": "code",
      "metadata": {
        "id": "trsGixihwi_s",
        "colab_type": "code",
        "outputId": "3f011e7a-993d-45ad-e3e9-68a6d08943e1",
        "colab": {
          "base_uri": "https://localhost:8080/",
          "height": 124
        }
      },
      "source": [
        "# Connecting to google drive\n",
        "from google.colab import drive\n",
        "drive.mount('/content/drive')"
      ],
      "execution_count": 3,
      "outputs": [
        {
          "output_type": "stream",
          "text": [
            "Go to this URL in a browser: https://accounts.google.com/o/oauth2/auth?client_id=947318989803-6bn6qk8qdgf4n4g3pfee6491hc0brc4i.apps.googleusercontent.com&redirect_uri=urn%3aietf%3awg%3aoauth%3a2.0%3aoob&response_type=code&scope=email%20https%3a%2f%2fwww.googleapis.com%2fauth%2fdocs.test%20https%3a%2f%2fwww.googleapis.com%2fauth%2fdrive%20https%3a%2f%2fwww.googleapis.com%2fauth%2fdrive.photos.readonly%20https%3a%2f%2fwww.googleapis.com%2fauth%2fpeopleapi.readonly\n",
            "\n",
            "Enter your authorization code:\n",
            "··········\n",
            "Mounted at /content/drive\n"
          ],
          "name": "stdout"
        }
      ]
    },
    {
      "cell_type": "code",
      "metadata": {
        "id": "y3Ec5Xd8wl3G",
        "colab_type": "code",
        "colab": {}
      },
      "source": [
        "%reload_ext autoreload\n",
        "%autoreload 2"
      ],
      "execution_count": 0,
      "outputs": []
    },
    {
      "cell_type": "markdown",
      "metadata": {
        "id": "2zF5XUwwy6SJ",
        "colab_type": "text"
      },
      "source": [
        "## Useful Functions"
      ]
    },
    {
      "cell_type": "code",
      "metadata": {
        "id": "66a_VAz1zDdb",
        "colab_type": "code",
        "colab": {}
      },
      "source": [
        "# Function to calculate missing values by column\n",
        "def missing_values_table(df):\n",
        "        # Total missing values\n",
        "        mis_val = df.isnull().sum()\n",
        "        \n",
        "        # Percentage of missing values\n",
        "        mis_val_percent = 100 * df.isnull().sum() / len(df)\n",
        "        \n",
        "        # Make a table with the results\n",
        "        mis_val_table = pd.concat([mis_val, mis_val_percent], axis=1)\n",
        "        \n",
        "        # Rename the columns\n",
        "        mis_val_table_ren_columns = mis_val_table.rename(\n",
        "        columns = {0 : 'Missing Values', 1 : '% of Total Values'})\n",
        "        \n",
        "        # Sort the table by percentage of missing descending\n",
        "        mis_val_table_ren_columns = mis_val_table_ren_columns[\n",
        "            mis_val_table_ren_columns.iloc[:,1] != 0].sort_values(\n",
        "        '% of Total Values', ascending=False).round(1)\n",
        "        \n",
        "        # Print some summary information\n",
        "        print (\"Your selected dataframe has \" + str(df.shape[1]) + \" columns.\\n\"      \n",
        "            \"There are \" + str(mis_val_table_ren_columns.shape[0]) +\n",
        "              \" columns that have missing values.\")\n",
        "        \n",
        "        # Return the dataframe with missing information\n",
        "        return mis_val_table_ren_columns"
      ],
      "execution_count": 0,
      "outputs": []
    },
    {
      "cell_type": "code",
      "metadata": {
        "id": "rL-RPy-nzU8u",
        "colab_type": "code",
        "colab": {}
      },
      "source": [
        "# Functions to remove collinear features\n",
        "\n",
        "def remove_collinear_features(x, threshold):\n",
        "    '''\n",
        "    Objective:\n",
        "        Remove collinear features in a dataframe with a correlation coefficient\n",
        "        greater than the threshold. Removing collinear features can help a model\n",
        "        to generalize and improves the interpretability of the model.\n",
        "        \n",
        "    Inputs: \n",
        "        threshold: any features with correlations greater than this value are removed\n",
        "    \n",
        "    Output: \n",
        "        dataframe that contains only the non-highly-collinear features\n",
        "    '''\n",
        "    \n",
        "    # Calculate the correlation matrix\n",
        "    corr_matrix = x.corr()\n",
        "    iters = range(len(corr_matrix.columns) - 1)\n",
        "    drop_cols = []\n",
        "\n",
        "    # Iterate through the correlation matrix and compare correlations\n",
        "    for i in iters:\n",
        "        for j in range(i):\n",
        "            item = corr_matrix.iloc[j:(j+1), (i+1):(i+2)]\n",
        "            col = item.columns\n",
        "            row = item.index\n",
        "            val = abs(item.values)\n",
        "            \n",
        "            # If correlation exceeds the threshold\n",
        "            if val >= threshold:\n",
        "                # Print the correlated features and the correlation value\n",
        "                # print(col.values[0], \"|\", row.values[0], \"|\", round(val[0][0], 2))\n",
        "                drop_cols.append(col.values[0])\n",
        "\n",
        "    # Drop one of each pair of correlated columns\n",
        "    drops = set(drop_cols)\n",
        "    x = x.drop(columns = drops)\n",
        "\n",
        "    return x"
      ],
      "execution_count": 0,
      "outputs": []
    },
    {
      "cell_type": "markdown",
      "metadata": {
        "id": "Ly9Na3fZvkak",
        "colab_type": "text"
      },
      "source": [
        "## Importing Data"
      ]
    },
    {
      "cell_type": "code",
      "metadata": {
        "id": "Z-qo47cgvkal",
        "colab_type": "code",
        "colab": {}
      },
      "source": [
        "  path_to_drive = '/content/drive/My Drive/Data Science toolbox/Data_cup/'\n",
        "\n",
        "  train = pd.read_csv(path_to_drive + \"train/train.csv\")\n",
        "  building_ownership = pd.read_csv(path_to_drive + \"train/building_ownership.csv\")\n",
        "  building_structure = pd.read_csv(path_to_drive + \"train/building_structure.csv\")\n",
        "  ward_demographic_data = pd.read_csv(path_to_drive + \"train/ward_demographic_data.csv\")\n",
        "  test = pd.read_csv(path_to_drive + \"test/test.csv\")"
      ],
      "execution_count": 0,
      "outputs": []
    },
    {
      "cell_type": "code",
      "metadata": {
        "id": "xdznZXnCjXfF",
        "colab_type": "code",
        "outputId": "4e61ff38-63cd-4b49-8733-2cefe7db8b4a",
        "colab": {
          "base_uri": "https://localhost:8080/",
          "height": 190
        }
      },
      "source": [
        "list(train)"
      ],
      "execution_count": 0,
      "outputs": [
        {
          "output_type": "execute_result",
          "data": {
            "text/plain": [
              "['building_id',\n",
              " 'has_geotechnical_risk',\n",
              " 'has_geotechnical_risk_fault_crack',\n",
              " 'has_geotechnical_risk_flood',\n",
              " 'has_geotechnical_risk_land_settlement',\n",
              " 'has_geotechnical_risk_landslide',\n",
              " 'has_geotechnical_risk_liquefaction',\n",
              " 'has_geotechnical_risk_other',\n",
              " 'has_geotechnical_risk_rock_fall',\n",
              " 'damage_grade']"
            ]
          },
          "metadata": {
            "tags": []
          },
          "execution_count": 9
        }
      ]
    },
    {
      "cell_type": "code",
      "metadata": {
        "id": "FvCN9IrQjZFf",
        "colab_type": "code",
        "outputId": "561d88ae-10f2-40b0-9b01-acb4faf76876",
        "colab": {
          "base_uri": "https://localhost:8080/",
          "height": 173
        }
      },
      "source": [
        "list(test)"
      ],
      "execution_count": 0,
      "outputs": [
        {
          "output_type": "execute_result",
          "data": {
            "text/plain": [
              "['building_id',\n",
              " 'has_geotechnical_risk',\n",
              " 'has_geotechnical_risk_fault_crack',\n",
              " 'has_geotechnical_risk_flood',\n",
              " 'has_geotechnical_risk_land_settlement',\n",
              " 'has_geotechnical_risk_landslide',\n",
              " 'has_geotechnical_risk_liquefaction',\n",
              " 'has_geotechnical_risk_other',\n",
              " 'has_geotechnical_risk_rock_fall']"
            ]
          },
          "metadata": {
            "tags": []
          },
          "execution_count": 10
        }
      ]
    },
    {
      "cell_type": "markdown",
      "metadata": {
        "id": "zRoSjzB6ZpZI",
        "colab_type": "text"
      },
      "source": [
        "### Data wrangling"
      ]
    },
    {
      "cell_type": "code",
      "metadata": {
        "id": "pTnV3InL2cCL",
        "colab_type": "code",
        "colab": {}
      },
      "source": [
        "#merging tables\n",
        "data = pd.merge(building_structure , building_ownership, how='left')\n",
        "train = pd.merge(train, data, how = 'left')\n",
        "train = pd.merge(train,ward_demographic_data, how= 'left')"
      ],
      "execution_count": 0,
      "outputs": []
    },
    {
      "cell_type": "code",
      "metadata": {
        "id": "lhSzc0BB370j",
        "colab_type": "code",
        "colab": {}
      },
      "source": [
        "#merging test\n",
        "test = pd.merge(test,data, how='left')\n",
        "test = pd.merge(test, ward_demographic_data, how= 'left')"
      ],
      "execution_count": 0,
      "outputs": []
    },
    {
      "cell_type": "code",
      "metadata": {
        "id": "kQLgdZPs3JBS",
        "colab_type": "code",
        "outputId": "c3cf7a88-4a3f-4e70-de85-9ad1ce3c024c",
        "colab": {
          "base_uri": "https://localhost:8080/",
          "height": 34
        }
      },
      "source": [
        "train.shape"
      ],
      "execution_count": 0,
      "outputs": [
        {
          "output_type": "execute_result",
          "data": {
            "text/plain": [
              "(515937, 51)"
            ]
          },
          "metadata": {
            "tags": []
          },
          "execution_count": 23
        }
      ]
    },
    {
      "cell_type": "code",
      "metadata": {
        "id": "aMqupYRJ4mE_",
        "colab_type": "code",
        "outputId": "c8eaf757-5ba2-4d6d-831b-e61b046a2951",
        "colab": {
          "base_uri": "https://localhost:8080/",
          "height": 34
        }
      },
      "source": [
        "test.shape"
      ],
      "execution_count": 0,
      "outputs": [
        {
          "output_type": "execute_result",
          "data": {
            "text/plain": [
              "(221117, 50)"
            ]
          },
          "metadata": {
            "tags": []
          },
          "execution_count": 24
        }
      ]
    },
    {
      "cell_type": "code",
      "metadata": {
        "id": "P_RoLDIdF-q7",
        "colab_type": "code",
        "outputId": "cb70df8c-edb5-4383-f5bf-223afc7d743f",
        "colab": {
          "base_uri": "https://localhost:8080/",
          "height": 294
        }
      },
      "source": [
        "train[['age_building']].describe()"
      ],
      "execution_count": 9,
      "outputs": [
        {
          "output_type": "execute_result",
          "data": {
            "text/html": [
              "<div>\n",
              "<style scoped>\n",
              "    .dataframe tbody tr th:only-of-type {\n",
              "        vertical-align: middle;\n",
              "    }\n",
              "\n",
              "    .dataframe tbody tr th {\n",
              "        vertical-align: top;\n",
              "    }\n",
              "\n",
              "    .dataframe thead th {\n",
              "        text-align: right;\n",
              "    }\n",
              "</style>\n",
              "<table border=\"1\" class=\"dataframe\">\n",
              "  <thead>\n",
              "    <tr style=\"text-align: right;\">\n",
              "      <th></th>\n",
              "      <th>age_building</th>\n",
              "    </tr>\n",
              "  </thead>\n",
              "  <tbody>\n",
              "    <tr>\n",
              "      <th>count</th>\n",
              "      <td>515937.000000</td>\n",
              "    </tr>\n",
              "    <tr>\n",
              "      <th>mean</th>\n",
              "      <td>27.743471</td>\n",
              "    </tr>\n",
              "    <tr>\n",
              "      <th>std</th>\n",
              "      <td>72.583940</td>\n",
              "    </tr>\n",
              "    <tr>\n",
              "      <th>min</th>\n",
              "      <td>0.000000</td>\n",
              "    </tr>\n",
              "    <tr>\n",
              "      <th>25%</th>\n",
              "      <td>10.000000</td>\n",
              "    </tr>\n",
              "    <tr>\n",
              "      <th>50%</th>\n",
              "      <td>18.000000</td>\n",
              "    </tr>\n",
              "    <tr>\n",
              "      <th>75%</th>\n",
              "      <td>30.000000</td>\n",
              "    </tr>\n",
              "    <tr>\n",
              "      <th>max</th>\n",
              "      <td>999.000000</td>\n",
              "    </tr>\n",
              "  </tbody>\n",
              "</table>\n",
              "</div>"
            ],
            "text/plain": [
              "        age_building\n",
              "count  515937.000000\n",
              "mean       27.743471\n",
              "std        72.583940\n",
              "min         0.000000\n",
              "25%        10.000000\n",
              "50%        18.000000\n",
              "75%        30.000000\n",
              "max       999.000000"
            ]
          },
          "metadata": {
            "tags": []
          },
          "execution_count": 9
        }
      ]
    },
    {
      "cell_type": "code",
      "metadata": {
        "id": "o75HNamTZ4Gb",
        "colab_type": "code",
        "colab": {}
      },
      "source": [
        "# Dropping unecessary variables/data points\n",
        "\n",
        "# Dropping outliers in age of building\n",
        "train=train[~(train['age_building'] > 150)];\n",
        "\n",
        "# High correlation with ward_id and with has_secondary_use\n",
        "features_prep = train.drop(columns=['height_ft_pre_eq','plinth_area_sq_ft',\n",
        "                                    'damage_grade','building_id','district_id',\n",
        "                                    'vdcmun_id', 'has_secondary_use_agriculture',\n",
        "                                    'has_secondary_use_hotel','has_secondary_use_rental'])\n",
        "\n",
        "target = pd.DataFrame(train[['damage_grade']])\n",
        "\n",
        "# High correlation with ward_id and with has_secondary_use\n",
        "features_prep_test=test.drop(columns=['height_ft_pre_eq','plinth_area_sq_ft'\n",
        "                                      ,'building_id','district_id','vdcmun_id'\n",
        "                                      , 'has_secondary_use_agriculture','has_secondary_use_hotel'\n",
        "                                      ,'has_secondary_use_rental']) \n",
        "\n",
        "\n"
      ],
      "execution_count": 0,
      "outputs": []
    },
    {
      "cell_type": "code",
      "metadata": {
        "id": "mu769VphcsYl",
        "colab_type": "code",
        "colab": {}
      },
      "source": [
        "# Converting income range category into a mean \n",
        "features_prep['income_range_in_thousands']=features_prep['income_range_in_thousands'].replace('0-10', 5.0)\n",
        "features_prep['income_range_in_thousands']=features_prep['income_range_in_thousands'].replace('10-20', 15.0)\n",
        "features_prep['income_range_in_thousands']=features_prep['income_range_in_thousands'].replace('20-30', 25.0)\n",
        "features_prep['income_range_in_thousands']=features_prep['income_range_in_thousands'].replace('30-50', 40.0)\n",
        "features_prep['income_range_in_thousands']=features_prep['income_range_in_thousands'].replace('50+', 50.0)\n",
        "features_prep['income_range_in_thousands']=features_prep['income_range_in_thousands'].fillna(0.0)\n",
        "\n",
        "features_prep_test['income_range_in_thousands']=features_prep_test['income_range_in_thousands'].replace('0-10', 5.0)\n",
        "features_prep_test['income_range_in_thousands']=features_prep_test['income_range_in_thousands'].replace('10-20', 15.0)\n",
        "features_prep_test['income_range_in_thousands']=features_prep_test['income_range_in_thousands'].replace('20-30', 25.0)\n",
        "features_prep_test['income_range_in_thousands']=features_prep_test['income_range_in_thousands'].replace('30-50', 40.0)\n",
        "features_prep_test['income_range_in_thousands']=features_prep_test['income_range_in_thousands'].replace('50+', 50.0)\n",
        "features_prep_test['income_range_in_thousands']=features_prep_test['income_range_in_thousands'].fillna(0.0)\n",
        "\n",
        "\n",
        "# Transforming it into float\n",
        "features_prep['income_range_in_thousands'].astype(float);\n",
        "features_prep_test['income_range_in_thousands'].astype(float);"
      ],
      "execution_count": 0,
      "outputs": []
    },
    {
      "cell_type": "code",
      "metadata": {
        "id": "pOpGdVRzgdW2",
        "colab_type": "code",
        "outputId": "a0a45256-bb97-47e2-e1b4-5af49e98949d",
        "colab": {
          "base_uri": "https://localhost:8080/",
          "height": 265
        }
      },
      "source": [
        "features_prep['age_building'].plot(kind='hist', bins = 100);"
      ],
      "execution_count": 12,
      "outputs": [
        {
          "output_type": "display_data",
          "data": {
            "image/png": "[encoded data removed]",
            "text/plain": [
              "<Figure size 432x288 with 1 Axes>"
            ]
          },
          "metadata": {
            "tags": []
          }
        }
      ]
    },
    {
      "cell_type": "code",
      "metadata": {
        "id": "61AyU5C4hbq_",
        "colab_type": "code",
        "colab": {}
      },
      "source": [
        "# Bucketizing age_building -> creates missing values!\n",
        "#features_prep['age_building'] = pd.cut(features_prep['age_building'],bins=[10,20,30,40,50,60,70,80,90,100,150])\n",
        "#features_prep_test['age_building'] = pd.cut(features_prep_test['age_building'],bins=[10,20,30,40,50,60,70,80,90,100,150])\n"
      ],
      "execution_count": 0,
      "outputs": []
    },
    {
      "cell_type": "code",
      "metadata": {
        "id": "UT3tz-uBmex_",
        "colab_type": "code",
        "outputId": "5eebcec2-fc99-4417-abc5-df3c1c2478de",
        "colab": {
          "base_uri": "https://localhost:8080/",
          "height": 176
        }
      },
      "source": [
        "# Checking for missing values\n",
        "missing_values_table(features_prep)"
      ],
      "execution_count": 13,
      "outputs": [
        {
          "output_type": "stream",
          "text": [
            "Your selected dataframe has 42 columns.\n",
            "There are 3 columns that have missing values.\n"
          ],
          "name": "stdout"
        },
        {
          "output_type": "execute_result",
          "data": {
            "text/html": [
              "<div>\n",
              "<style scoped>\n",
              "    .dataframe tbody tr th:only-of-type {\n",
              "        vertical-align: middle;\n",
              "    }\n",
              "\n",
              "    .dataframe tbody tr th {\n",
              "        vertical-align: top;\n",
              "    }\n",
              "\n",
              "    .dataframe thead th {\n",
              "        text-align: right;\n",
              "    }\n",
              "</style>\n",
              "<table border=\"1\" class=\"dataframe\">\n",
              "  <thead>\n",
              "    <tr style=\"text-align: right;\">\n",
              "      <th></th>\n",
              "      <th>Missing Values</th>\n",
              "      <th>% of Total Values</th>\n",
              "    </tr>\n",
              "  </thead>\n",
              "  <tbody>\n",
              "    <tr>\n",
              "      <th>count_families</th>\n",
              "      <td>1</td>\n",
              "      <td>0.0</td>\n",
              "    </tr>\n",
              "    <tr>\n",
              "      <th>household_count</th>\n",
              "      <td>1</td>\n",
              "      <td>0.0</td>\n",
              "    </tr>\n",
              "    <tr>\n",
              "      <th>avg_hh_size</th>\n",
              "      <td>1</td>\n",
              "      <td>0.0</td>\n",
              "    </tr>\n",
              "  </tbody>\n",
              "</table>\n",
              "</div>"
            ],
            "text/plain": [
              "                 Missing Values  % of Total Values\n",
              "count_families                1                0.0\n",
              "household_count               1                0.0\n",
              "avg_hh_size                   1                0.0"
            ]
          },
          "metadata": {
            "tags": []
          },
          "execution_count": 13
        }
      ]
    },
    {
      "cell_type": "code",
      "metadata": {
        "id": "qrHWNmyJqTOU",
        "colab_type": "code",
        "outputId": "f1dab8ba-fbcf-403f-bccb-6265ee3cda52",
        "colab": {
          "base_uri": "https://localhost:8080/",
          "height": 145
        }
      },
      "source": [
        "# Checking for missing values\n",
        "missing_values_table(features_prep_test)"
      ],
      "execution_count": 14,
      "outputs": [
        {
          "output_type": "stream",
          "text": [
            "Your selected dataframe has 42 columns.\n",
            "There are 2 columns that have missing values.\n"
          ],
          "name": "stdout"
        },
        {
          "output_type": "execute_result",
          "data": {
            "text/html": [
              "<div>\n",
              "<style scoped>\n",
              "    .dataframe tbody tr th:only-of-type {\n",
              "        vertical-align: middle;\n",
              "    }\n",
              "\n",
              "    .dataframe tbody tr th {\n",
              "        vertical-align: top;\n",
              "    }\n",
              "\n",
              "    .dataframe thead th {\n",
              "        text-align: right;\n",
              "    }\n",
              "</style>\n",
              "<table border=\"1\" class=\"dataframe\">\n",
              "  <thead>\n",
              "    <tr style=\"text-align: right;\">\n",
              "      <th></th>\n",
              "      <th>Missing Values</th>\n",
              "      <th>% of Total Values</th>\n",
              "    </tr>\n",
              "  </thead>\n",
              "  <tbody>\n",
              "    <tr>\n",
              "      <th>household_count</th>\n",
              "      <td>2</td>\n",
              "      <td>0.0</td>\n",
              "    </tr>\n",
              "    <tr>\n",
              "      <th>avg_hh_size</th>\n",
              "      <td>2</td>\n",
              "      <td>0.0</td>\n",
              "    </tr>\n",
              "  </tbody>\n",
              "</table>\n",
              "</div>"
            ],
            "text/plain": [
              "                 Missing Values  % of Total Values\n",
              "household_count               2                0.0\n",
              "avg_hh_size                   2                0.0"
            ]
          },
          "metadata": {
            "tags": []
          },
          "execution_count": 14
        }
      ]
    },
    {
      "cell_type": "markdown",
      "metadata": {
        "id": "qLk77VqsSbj8",
        "colab_type": "text"
      },
      "source": [
        "## Target variable analysis"
      ]
    },
    {
      "cell_type": "code",
      "metadata": {
        "id": "sgwoKWi_8H_c",
        "colab_type": "code",
        "outputId": "127ccef1-16cd-4ff7-e424-163205f697e8",
        "colab": {
          "base_uri": "https://localhost:8080/",
          "height": 280
        }
      },
      "source": [
        "# Target classes distribution\n",
        "#train['damage_grade'].value_counts().plot(kind='bar')\n",
        "sns.countplot(x='damage_grade',data=train,color='blue');"
      ],
      "execution_count": 15,
      "outputs": [
        {
          "output_type": "display_data",
          "data": {
            "image/png": "[encoded data removed]",
            "text/plain": [
              "<Figure size 432x288 with 1 Axes>"
            ]
          },
          "metadata": {
            "tags": []
          }
        }
      ]
    },
    {
      "cell_type": "markdown",
      "metadata": {
        "id": "8QiAP0fH8YS3",
        "colab_type": "text"
      },
      "source": [
        "\n",
        "\n",
        "1.   The ordinality of the scale. The classes follow an increasing order meaning. A degree of damage of 4 is less severe than 5.\n",
        "2.   Evaluation metric. In case our model is classifying the damages incorrectly, the RMSE would be punished unproportionally (i.e, predicting degree 1 for a degree 5 sample).\n",
        "3. Imbalanced dataset, the are far more samples in class 5 than in class.\n",
        "\n"
      ]
    },
    {
      "cell_type": "markdown",
      "metadata": {
        "id": "IVp-qsDNShPS",
        "colab_type": "text"
      },
      "source": [
        "## Features analysis"
      ]
    },
    {
      "cell_type": "markdown",
      "metadata": {
        "id": "SFSq7srxcIOr",
        "colab_type": "text"
      },
      "source": [
        "### Roof type"
      ]
    },
    {
      "cell_type": "code",
      "metadata": {
        "id": "AUJqYGNpDB8_",
        "colab_type": "code",
        "outputId": "69b88edc-8a44-4dec-999f-56a2aa2f7022",
        "colab": {
          "base_uri": "https://localhost:8080/",
          "height": 369
        }
      },
      "source": [
        "sns.catplot(x='damage_grade', kind='count', hue= 'roof_type',data=train);"
      ],
      "execution_count": 16,
      "outputs": [
        {
          "output_type": "display_data",
          "data": {
            "image/png": "[encoded data removed]",
            "text/plain": [
              "<Figure size 533.25x360 with 1 Axes>"
            ]
          },
          "metadata": {
            "tags": []
          }
        }
      ]
    },
    {
      "cell_type": "markdown",
      "metadata": {
        "id": "pjHmu_9OGPRi",
        "colab_type": "text"
      },
      "source": [
        "Since we have an imbalanced dataset, it is difficult to see how the different categories in an explanatory variable are related to the target class (degree of damage of the building). Since we have an increasing number of samples as we look higher degrees of damage we observe always small counts in degrees of damage 1 and 2 and huge count values in degrees 4 and 5.\n",
        "\n",
        "For this reason we think it is more useful to represent the counts of each category of the explanatory variables (for example, Bamboo in roof_type) as the proportion of samples within each degree of damage.\n",
        "\n",
        "So, in the following plots each bin represents the percentage of samples of each roof type in each degree of damage. In degree of damage 1 RCC/RB/RBC represents around 30% of the buldings in that class. In degree of damage 5 it represents almost 0% of the buldings with highly damaged."
      ]
    },
    {
      "cell_type": "code",
      "metadata": {
        "id": "2zSeQZjdFaAp",
        "colab_type": "code",
        "outputId": "b76962fa-2e7e-43c9-bd76-79ebbbd80620",
        "colab": {
          "base_uri": "https://localhost:8080/",
          "height": 280
        }
      },
      "source": [
        "counts_roof = (train.groupby(['damage_grade'])['roof_type']\n",
        "                     .value_counts(normalize=True)\n",
        "                     .rename('avg')\n",
        "                     .mul(100)\n",
        "                     .reset_index()\n",
        "                     .sort_values('roof_type'))\n",
        "sns.barplot(x=\"damage_grade\", y=\"avg\", hue=\"roof_type\", data=counts_roof)\n",
        "# Put the legend out of the figure\n",
        "plt.legend(bbox_to_anchor=(1.05, 1), loc=2, borderaxespad=0.);"
      ],
      "execution_count": 17,
      "outputs": [
        {
          "output_type": "display_data",
          "data": {
            "image/png": "[encoded data removed]",
            "text/plain": [
              "<Figure size 432x288 with 1 Axes>"
            ]
          },
          "metadata": {
            "tags": []
          }
        }
      ]
    },
    {
      "cell_type": "markdown",
      "metadata": {
        "id": "2f5FsnM7cQs2",
        "colab_type": "text"
      },
      "source": [
        "### Foundation type"
      ]
    },
    {
      "cell_type": "markdown",
      "metadata": {
        "id": "JYDHZdNeN980",
        "colab_type": "text"
      },
      "source": [
        "When we plot the proportion of buildings based on their foundation type in each of the classes of damage severity we observe the same trend.\n",
        "\n",
        "The proportion of buildings made of RC decreases as the severity of the damage increases. It seems to be a negative correlation between RC and damage. On the other hand Mud material is positively correlated with the damage. In fact, 95% of buildings in degree 5 are made of Mud and just 0.2% of RC.\n",
        "\n"
      ]
    },
    {
      "cell_type": "code",
      "metadata": {
        "id": "xItCwiwPCixY",
        "colab_type": "code",
        "outputId": "a69b16bb-b27f-4f67-c0e1-65bc557eaf51",
        "colab": {
          "base_uri": "https://localhost:8080/",
          "height": 280
        }
      },
      "source": [
        "counts_foundation = (train.groupby(['damage_grade'])['foundation_type']\n",
        "                     .value_counts(normalize=True)\n",
        "                     .rename('avg')\n",
        "                     .mul(100)\n",
        "                     .reset_index()\n",
        "                     .sort_values('foundation_type'))\n",
        "sns.barplot(x=\"damage_grade\", y=\"avg\", hue=\"foundation_type\", data=counts_foundation)\n",
        "# Put the legend out of the figure\n",
        "plt.legend(bbox_to_anchor=(1.05, 1), loc=2, borderaxespad=0.);"
      ],
      "execution_count": 18,
      "outputs": [
        {
          "output_type": "display_data",
          "data": {
            "image/png": "[encoded data removed]",
            "text/plain": [
              "<Figure size 432x288 with 1 Axes>"
            ]
          },
          "metadata": {
            "tags": []
          }
        }
      ]
    },
    {
      "cell_type": "code",
      "metadata": {
        "id": "YhWrU6_ERJDv",
        "colab_type": "code",
        "outputId": "cb94ee6d-65e6-4e15-de7c-49d824fbb535",
        "colab": {
          "base_uri": "https://localhost:8080/",
          "height": 202
        }
      },
      "source": [
        "degree_5 = counts_foundation['damage_grade']==5\n",
        "counts_foundation[degree_5]"
      ],
      "execution_count": 19,
      "outputs": [
        {
          "output_type": "execute_result",
          "data": {
            "text/html": [
              "<div>\n",
              "<style scoped>\n",
              "    .dataframe tbody tr th:only-of-type {\n",
              "        vertical-align: middle;\n",
              "    }\n",
              "\n",
              "    .dataframe tbody tr th {\n",
              "        vertical-align: top;\n",
              "    }\n",
              "\n",
              "    .dataframe thead th {\n",
              "        text-align: right;\n",
              "    }\n",
              "</style>\n",
              "<table border=\"1\" class=\"dataframe\">\n",
              "  <thead>\n",
              "    <tr style=\"text-align: right;\">\n",
              "      <th></th>\n",
              "      <th>damage_grade</th>\n",
              "      <th>foundation_type</th>\n",
              "      <th>avg</th>\n",
              "    </tr>\n",
              "  </thead>\n",
              "  <tbody>\n",
              "    <tr>\n",
              "      <th>22</th>\n",
              "      <td>5</td>\n",
              "      <td>Bamboo/Timber</td>\n",
              "      <td>1.663278</td>\n",
              "    </tr>\n",
              "    <tr>\n",
              "      <th>21</th>\n",
              "      <td>5</td>\n",
              "      <td>Cement-Stone/Brick</td>\n",
              "      <td>2.362007</td>\n",
              "    </tr>\n",
              "    <tr>\n",
              "      <th>20</th>\n",
              "      <td>5</td>\n",
              "      <td>Mud mortar-Stone/Brick</td>\n",
              "      <td>95.149794</td>\n",
              "    </tr>\n",
              "    <tr>\n",
              "      <th>23</th>\n",
              "      <td>5</td>\n",
              "      <td>Other</td>\n",
              "      <td>0.545663</td>\n",
              "    </tr>\n",
              "    <tr>\n",
              "      <th>24</th>\n",
              "      <td>5</td>\n",
              "      <td>RC</td>\n",
              "      <td>0.279258</td>\n",
              "    </tr>\n",
              "  </tbody>\n",
              "</table>\n",
              "</div>"
            ],
            "text/plain": [
              "    damage_grade         foundation_type        avg\n",
              "22             5           Bamboo/Timber   1.663278\n",
              "21             5      Cement-Stone/Brick   2.362007\n",
              "20             5  Mud mortar-Stone/Brick  95.149794\n",
              "23             5                   Other   0.545663\n",
              "24             5                      RC   0.279258"
            ]
          },
          "metadata": {
            "tags": []
          },
          "execution_count": 19
        }
      ]
    },
    {
      "cell_type": "markdown",
      "metadata": {
        "id": "d7Gh8y6TcU3G",
        "colab_type": "text"
      },
      "source": [
        "### Ground floor type"
      ]
    },
    {
      "cell_type": "markdown",
      "metadata": {
        "id": "pPvNVNirRtbg",
        "colab_type": "text"
      },
      "source": [
        "The same happens when inspecting the ground floor type. RC is the material in almost 40% of the buildings with no damage and just 1.5% in degree 5. Mud floor is found in 88.4% of buildings in degree 5."
      ]
    },
    {
      "cell_type": "code",
      "metadata": {
        "id": "Y5pfA2XuROKC",
        "colab_type": "code",
        "outputId": "12fd772a-2760-46d3-bd89-18861a160f82",
        "colab": {
          "base_uri": "https://localhost:8080/",
          "height": 280
        }
      },
      "source": [
        "counts_ground_type = (train.groupby(['damage_grade'])['ground_floor_type']\n",
        "                     .value_counts(normalize=True)\n",
        "                     .rename('avg')\n",
        "                     .mul(100)\n",
        "                     .reset_index()\n",
        "                     .sort_values('ground_floor_type'))\n",
        "sns.barplot(x=\"damage_grade\", y=\"avg\", hue=\"ground_floor_type\", data=counts_ground_type);"
      ],
      "execution_count": 53,
      "outputs": [
        {
          "output_type": "display_data",
          "data": {
            "image/png": "[encoded data removed]",
            "text/plain": [
              "<Figure size 432x288 with 1 Axes>"
            ]
          },
          "metadata": {
            "tags": []
          }
        }
      ]
    },
    {
      "cell_type": "code",
      "metadata": {
        "id": "mj4KlWoQSBLa",
        "colab_type": "code",
        "outputId": "5571b57f-f3b4-486e-e7e2-4da224bc70b0",
        "colab": {
          "base_uri": "https://localhost:8080/",
          "height": 202
        }
      },
      "source": [
        "degree_5_ground = counts_ground_type['damage_grade']==5\n",
        "counts_ground_type[degree_5_ground]"
      ],
      "execution_count": 54,
      "outputs": [
        {
          "output_type": "execute_result",
          "data": {
            "text/html": [
              "<div>\n",
              "<style scoped>\n",
              "    .dataframe tbody tr th:only-of-type {\n",
              "        vertical-align: middle;\n",
              "    }\n",
              "\n",
              "    .dataframe tbody tr th {\n",
              "        vertical-align: top;\n",
              "    }\n",
              "\n",
              "    .dataframe thead th {\n",
              "        text-align: right;\n",
              "    }\n",
              "</style>\n",
              "<table border=\"1\" class=\"dataframe\">\n",
              "  <thead>\n",
              "    <tr style=\"text-align: right;\">\n",
              "      <th></th>\n",
              "      <th>damage_grade</th>\n",
              "      <th>ground_floor_type</th>\n",
              "      <th>avg</th>\n",
              "    </tr>\n",
              "  </thead>\n",
              "  <tbody>\n",
              "    <tr>\n",
              "      <th>21</th>\n",
              "      <td>5</td>\n",
              "      <td>Brick/Stone</td>\n",
              "      <td>9.634394</td>\n",
              "    </tr>\n",
              "    <tr>\n",
              "      <th>20</th>\n",
              "      <td>5</td>\n",
              "      <td>Mud</td>\n",
              "      <td>88.390353</td>\n",
              "    </tr>\n",
              "    <tr>\n",
              "      <th>24</th>\n",
              "      <td>5</td>\n",
              "      <td>Other</td>\n",
              "      <td>0.103991</td>\n",
              "    </tr>\n",
              "    <tr>\n",
              "      <th>22</th>\n",
              "      <td>5</td>\n",
              "      <td>RC</td>\n",
              "      <td>1.558703</td>\n",
              "    </tr>\n",
              "    <tr>\n",
              "      <th>23</th>\n",
              "      <td>5</td>\n",
              "      <td>Timber</td>\n",
              "      <td>0.312558</td>\n",
              "    </tr>\n",
              "  </tbody>\n",
              "</table>\n",
              "</div>"
            ],
            "text/plain": [
              "    damage_grade ground_floor_type        avg\n",
              "21             5       Brick/Stone   9.634394\n",
              "20             5               Mud  88.390353\n",
              "24             5             Other   0.103991\n",
              "22             5                RC   1.558703\n",
              "23             5            Timber   0.312558"
            ]
          },
          "metadata": {
            "tags": []
          },
          "execution_count": 54
        }
      ]
    },
    {
      "cell_type": "markdown",
      "metadata": {
        "id": "B-KbBVaecctb",
        "colab_type": "text"
      },
      "source": [
        "### Average household size"
      ]
    },
    {
      "cell_type": "markdown",
      "metadata": {
        "id": "I8rJrbCiTqY5",
        "colab_type": "text"
      },
      "source": [
        "In terms of average household size, although there are too few samples outside 4,5 and 6 sizes and might not be significant, there is a decay in buildings with a damage degree 5 and an increase of degree 1 households of size 6, 7 and 8."
      ]
    },
    {
      "cell_type": "code",
      "metadata": {
        "id": "bMZ70Nf4_7ji",
        "colab_type": "code",
        "outputId": "7f00fb86-3f0c-4e9c-b112-2de548796174",
        "colab": {
          "base_uri": "https://localhost:8080/",
          "height": 284
        }
      },
      "source": [
        "avg_hh_size_avg = (train.groupby(['avg_hh_size'])['damage_grade']\n",
        "                     .value_counts(normalize=True)\n",
        "                     .rename('avg')\n",
        "                     .mul(100)\n",
        "                     .reset_index()\n",
        "                     .sort_values('avg_hh_size'))\n",
        "sns.barplot(x=\"avg_hh_size\", y=\"avg\", hue=\"damage_grade\", data=avg_hh_size_avg)\n",
        "plt.xlim(-0.5, 10.5)\n",
        "plt.ylim(0, 50)\n",
        "# Put the legend out of the figure\n",
        "plt.legend(bbox_to_anchor=(1.05, 1), loc=2, borderaxespad=0.);"
      ],
      "execution_count": 50,
      "outputs": [
        {
          "output_type": "display_data",
          "data": {
            "image/png": "[encoded data removed]",
            "text/plain": [
              "<Figure size 432x288 with 1 Axes>"
            ]
          },
          "metadata": {
            "tags": []
          }
        }
      ]
    },
    {
      "cell_type": "markdown",
      "metadata": {
        "id": "dJWaiDqIU6jg",
        "colab_type": "text"
      },
      "source": [
        "Nevertheless, we plot the histograms showing the absolute number of counts and realize the are almost no samples from size 7 onwards.\n",
        "\n",
        "Amost every building has an average household size of 4, 5 and 6. Size 6 seems to be the safer of those 3."
      ]
    },
    {
      "cell_type": "code",
      "metadata": {
        "id": "NZunTYOEVDGi",
        "colab_type": "code",
        "outputId": "767861c2-1dd0-48c5-9374-7c311f49840b",
        "colab": {
          "base_uri": "https://localhost:8080/",
          "height": 369
        }
      },
      "source": [
        "sns.catplot(x='avg_hh_size', kind='count', hue= 'damage_grade',data=train)\n",
        "plt.xlim(-0.5, 10.5);"
      ],
      "execution_count": 51,
      "outputs": [
        {
          "output_type": "display_data",
          "data": {
            "image/png": "[encoded data removed]",
            "text/plain": [
              "<Figure size 442.875x360 with 1 Axes>"
            ]
          },
          "metadata": {
            "tags": []
          }
        }
      ]
    },
    {
      "cell_type": "markdown",
      "metadata": {
        "id": "WHH0DDoWcljU",
        "colab_type": "text"
      },
      "source": [
        "### Plinth area"
      ]
    },
    {
      "cell_type": "markdown",
      "metadata": {
        "id": "UKKjLcy4dMAt",
        "colab_type": "text"
      },
      "source": [
        "The smaller the plinth area, the higher risk of severe damage the building has. Although there is not a big difference, it can be observed that bigger plinth areas lead to safer buildings. The following plot shows the average plinth area of the constructions in each damage degree."
      ]
    },
    {
      "cell_type": "code",
      "metadata": {
        "id": "JEJ6kcmhWoVx",
        "colab_type": "code",
        "outputId": "4314883e-70ac-4f74-beef-1b36b6bacf64",
        "colab": {
          "base_uri": "https://localhost:8080/",
          "height": 280
        }
      },
      "source": [
        "plinth_area_sq_ft = (train.groupby(['damage_grade'])['plinth_area_sq_ft']\n",
        "                     .mean()\n",
        "                     .rename('avg_plinth_area')\n",
        "                     .reset_index())\n",
        "sns.barplot(x='damage_grade',y='avg_plinth_area',data=plinth_area_sq_ft,color='blue');"
      ],
      "execution_count": 0,
      "outputs": [
        {
          "output_type": "display_data",
          "data": {
            "image/png": "[encoded data removed]",
            "text/plain": [
              "<Figure size 432x288 with 1 Axes>"
            ]
          },
          "metadata": {
            "tags": []
          }
        }
      ]
    },
    {
      "cell_type": "markdown",
      "metadata": {
        "id": "H83sLZheqf1d",
        "colab_type": "text"
      },
      "source": [
        "### Ward_id analysis"
      ]
    },
    {
      "cell_type": "markdown",
      "metadata": {
        "id": "Vyh1LgwPSvlC",
        "colab_type": "text"
      },
      "source": [
        "A priori Ward_id seems a simple identifier which has to be taken out of any predictive model. However, we suspect this can have a geographical meaning, which could be of great interest when dealing with such a geographic dependent issue like an earthquake.\n",
        "\n",
        "In order to investigate it, we use a density estimation plot which represents the the probability of finding a degree of damage taking as a function of the ward_id."
      ]
    },
    {
      "cell_type": "code",
      "metadata": {
        "id": "BiQNYFKWsYpR",
        "colab_type": "code",
        "outputId": "e61837de-e088-45bd-9373-3a494ea10a8a",
        "colab": {
          "base_uri": "https://localhost:8080/",
          "height": 280
        }
      },
      "source": [
        "# Plot each score in a density plot\n",
        "scores=[1,2,3,4,5]\n",
        "for score in scores:\n",
        "    # Select the score\n",
        "    subset = train[train['damage_grade'] == score]\n",
        "    \n",
        "    # Density plot of frequency of raising hands\n",
        "    ax = sns.kdeplot(subset['ward_id'],\n",
        "               label = score, shade = False, alpha = 0.8);\n",
        "\n",
        "ax.set(xlabel='ward_id', ylabel='density estimation')\n",
        "plt.show();"
      ],
      "execution_count": 68,
      "outputs": [
        {
          "output_type": "display_data",
          "data": {
            "image/png": "[encoded data removed]",
            "text/plain": [
              "<Figure size 432x288 with 1 Axes>"
            ]
          },
          "metadata": {
            "tags": []
          }
        }
      ]
    },
    {
      "cell_type": "markdown",
      "metadata": {
        "id": "qPokez3lNUKk",
        "colab_type": "text"
      },
      "source": [
        "It can be observed peaks in the denstiy curves which potentially represents buildings more close to the epicenter of the earthquakes. The heights of each damage class peaks and the order in which they appear could represent the magnitude of the earthquake.\n",
        "\n",
        "For example, buildings with ward_id in the range [100000,150000] (first hill from the left) appears to have suffered a light earthquake since the majority of buildings were slightly damaged and a small proportion were highly damaged. However, in buildings with ward_id in the range [200000,250000] a 5-degree damaged density peak can be found. A huge magnitude earthquake or/and a great amount of constructions close to the epicenter are found there."
      ]
    },
    {
      "cell_type": "markdown",
      "metadata": {
        "id": "H8QyZDpZ-ogI",
        "colab_type": "text"
      },
      "source": [
        "## Feature engineering"
      ]
    },
    {
      "cell_type": "markdown",
      "metadata": {
        "id": "DQX291zR7hlX",
        "colab_type": "text"
      },
      "source": [
        "One hot encoding of the categorical values (train set)"
      ]
    },
    {
      "cell_type": "code",
      "metadata": {
        "id": "eJqjIMXkvryC",
        "colab_type": "code",
        "outputId": "d396372a-e445-40f1-a4b9-303970bd1f58",
        "colab": {
          "base_uri": "https://localhost:8080/",
          "height": 72
        }
      },
      "source": [
        "# Select the numerical columns\n",
        "numeric_subset = features_prep.select_dtypes('number')\n",
        "# Select the categorical columns\n",
        "categorical_subset=features_prep.select_dtypes('object')\n",
        "\n",
        "print(list(categorical_subset))\n",
        "\n",
        "# One hot encode categorical subset\n",
        "categorical_subset = pd.get_dummies(categorical_subset)\n",
        "\n",
        "# Join the two dataframes using concat\n",
        "# Make sure to use axis = 1 to perform a column bind\n",
        "features_one_hot = pd.concat([numeric_subset, categorical_subset], axis = 1)\n",
        "\n",
        "features_one_hot.shape"
      ],
      "execution_count": 0,
      "outputs": [
        {
          "output_type": "stream",
          "text": [
            "['land_surface_condition', 'foundation_type', 'roof_type', 'ground_floor_type', 'other_floor_type', 'position', 'plan_configuration', 'legal_ownership_status']\n"
          ],
          "name": "stdout"
        },
        {
          "output_type": "execute_result",
          "data": {
            "text/plain": [
              "(512979, 72)"
            ]
          },
          "metadata": {
            "tags": []
          },
          "execution_count": 69
        }
      ]
    },
    {
      "cell_type": "markdown",
      "metadata": {
        "id": "aI5eZBJ076XD",
        "colab_type": "text"
      },
      "source": [
        "One hot encoding of the categorical values (test set)"
      ]
    },
    {
      "cell_type": "code",
      "metadata": {
        "id": "qnd9xHb24Qj-",
        "colab_type": "code",
        "outputId": "f023af51-a5f0-48b3-bafc-3295669511b5",
        "colab": {
          "base_uri": "https://localhost:8080/",
          "height": 72
        }
      },
      "source": [
        "# Select the numerical columns\n",
        "numeric_subset_test = features_prep_test.select_dtypes('number')\n",
        "# Select the categorical columns\n",
        "categorical_subset_test=features_prep_test.select_dtypes('object')\n",
        "\n",
        "print(list(categorical_subset_test))\n",
        "\n",
        "        \n",
        "# One hot encode categorical subset\n",
        "categorical_subset_test = pd.get_dummies(categorical_subset_test)\n",
        "\n",
        "# Join the two dataframes using concat\n",
        "# Make sure to use axis = 1 to perform a column bind\n",
        "features_one_hot_test = pd.concat([numeric_subset_test, categorical_subset_test], axis = 1)\n",
        "\n",
        "features_one_hot_test.shape"
      ],
      "execution_count": 0,
      "outputs": [
        {
          "output_type": "stream",
          "text": [
            "['land_surface_condition', 'foundation_type', 'roof_type', 'ground_floor_type', 'other_floor_type', 'position', 'plan_configuration', 'legal_ownership_status']\n"
          ],
          "name": "stdout"
        },
        {
          "output_type": "execute_result",
          "data": {
            "text/plain": [
              "(221117, 72)"
            ]
          },
          "metadata": {
            "tags": []
          },
          "execution_count": 70
        }
      ]
    },
    {
      "cell_type": "markdown",
      "metadata": {
        "id": "tw57q9FH8uGn",
        "colab_type": "text"
      },
      "source": [
        "Missing values imputation"
      ]
    },
    {
      "cell_type": "code",
      "metadata": {
        "id": "4ojfFDwQxKDi",
        "colab_type": "code",
        "colab": {}
      },
      "source": [
        "from sklearn.preprocessing import StandardScaler, MinMaxScaler\n",
        "# Create an imputer object with a median filling strategy\n",
        "#imputer = Imputer(strategy='median')\n",
        "\n",
        "from sklearn.impute import SimpleImputer\n",
        "imputer = SimpleImputer(strategy='median')\n",
        "\n",
        "# Train on the training features\n",
        "imputer.fit(features_one_hot)\n",
        "\n",
        "features = imputer.transform(features_one_hot)\n",
        "features_test=imputer.transform(features_one_hot_test)"
      ],
      "execution_count": 0,
      "outputs": []
    },
    {
      "cell_type": "markdown",
      "metadata": {
        "id": "g7K96m929iMl",
        "colab_type": "text"
      },
      "source": [
        "Train/Test set normalization"
      ]
    },
    {
      "cell_type": "code",
      "metadata": {
        "id": "WxgpCIGk8m0V",
        "colab_type": "code",
        "colab": {}
      },
      "source": [
        "scaler = MinMaxScaler()\n",
        "\n",
        "# Fit on the training data\n",
        "scaler.fit(features)\n",
        "\n",
        "# Transform both the training and testing data\n",
        "features = scaler.transform(features)\n",
        "features_test = scaler.transform(features_test)"
      ],
      "execution_count": 0,
      "outputs": []
    },
    {
      "cell_type": "markdown",
      "metadata": {
        "id": "aZxZcAN7qxd-",
        "colab_type": "text"
      },
      "source": [
        "## Modelling"
      ]
    },
    {
      "cell_type": "code",
      "metadata": {
        "id": "_gpzoM5dsRGo",
        "colab_type": "code",
        "colab": {}
      },
      "source": [
        "from sklearn.ensemble import RandomForestRegressor, GradientBoostingRegressor\n",
        "model = RandomForestRegressor(random_state=60)"
      ],
      "execution_count": 0,
      "outputs": []
    },
    {
      "cell_type": "markdown",
      "metadata": {
        "id": "qcCzryrQLy7T",
        "colab_type": "text"
      },
      "source": [
        "Train/Validation split"
      ]
    },
    {
      "cell_type": "code",
      "metadata": {
        "id": "vQmhfOy6FHMN",
        "colab_type": "code",
        "colab": {}
      },
      "source": [
        "X_train, X_val, y_train, y_val = train_test_split(features, target, test_size=0.33, random_state=42)"
      ],
      "execution_count": 0,
      "outputs": []
    },
    {
      "cell_type": "markdown",
      "metadata": {
        "id": "2YmsYRrEL4Gu",
        "colab_type": "text"
      },
      "source": [
        "Model fit and predictions"
      ]
    },
    {
      "cell_type": "code",
      "metadata": {
        "id": "ov_ZSnabqRzq",
        "colab_type": "code",
        "outputId": "a5226460-c038-4fb5-a9cb-aefc5cca4293",
        "colab": {
          "base_uri": "https://localhost:8080/",
          "height": 138
        }
      },
      "source": [
        "model.fit(X_train, y_train.values.ravel())"
      ],
      "execution_count": 75,
      "outputs": [
        {
          "output_type": "execute_result",
          "data": {
            "text/plain": [
              "RandomForestRegressor(bootstrap=True, ccp_alpha=0.0, criterion='mse',\n",
              "                      max_depth=None, max_features='auto', max_leaf_nodes=None,\n",
              "                      max_samples=None, min_impurity_decrease=0.0,\n",
              "                      min_impurity_split=None, min_samples_leaf=1,\n",
              "                      min_samples_split=2, min_weight_fraction_leaf=0.0,\n",
              "                      n_estimators=100, n_jobs=None, oob_score=False,\n",
              "                      random_state=60, verbose=0, warm_start=False)"
            ]
          },
          "metadata": {
            "tags": []
          },
          "execution_count": 75
        }
      ]
    },
    {
      "cell_type": "code",
      "metadata": {
        "id": "d_PBv3kV6dG6",
        "colab_type": "code",
        "colab": {}
      },
      "source": [
        "# Rounding regressor prediction to integer values\n",
        "y_pred_train=np.around(model.predict(X_train))\n",
        "y_pred_val=np.around(model.predict(X_val))\n",
        "\n",
        "#Bound predictions outside range [1,5]\n",
        "def limiting(predictions):\n",
        "  for i in range(len(predictions)):\n",
        "    if predictions[i] == 0:\n",
        "      predictions[i] = 1\n",
        "    if predictions[i] == 6:\n",
        "      predictions[i]=5\n",
        "  return predictions\n",
        "\n",
        "y_pred_train = limiting(y_pred_train)\n",
        "y_pred_val = limiting(y_pred_val)"
      ],
      "execution_count": 0,
      "outputs": []
    },
    {
      "cell_type": "code",
      "metadata": {
        "id": "72OCwDJDEVj0",
        "colab_type": "code",
        "outputId": "6fad3d33-61f4-4300-f8d9-a0aff7a342c4",
        "colab": {
          "base_uri": "https://localhost:8080/",
          "height": 34
        }
      },
      "source": [
        "from sklearn.metrics import mean_squared_error\n",
        "from math import sqrt\n",
        "\n",
        "rmse = sqrt(mean_squared_error(y_val, y_pred_val))\n",
        "print(rmse)"
      ],
      "execution_count": 77,
      "outputs": [
        {
          "output_type": "stream",
          "text": [
            "0.9512527199430373\n"
          ],
          "name": "stdout"
        }
      ]
    },
    {
      "cell_type": "markdown",
      "metadata": {
        "id": "c2-01MjkLVx1",
        "colab_type": "text"
      },
      "source": [
        "Model training with full training set"
      ]
    },
    {
      "cell_type": "code",
      "metadata": {
        "id": "Bm-6w5OzLDYO",
        "colab_type": "code",
        "outputId": "18c5814d-e025-4e13-f629-66312c672435",
        "colab": {
          "base_uri": "https://localhost:8080/",
          "height": 138
        }
      },
      "source": [
        "model.fit(features, target.values.ravel())"
      ],
      "execution_count": 79,
      "outputs": [
        {
          "output_type": "execute_result",
          "data": {
            "text/plain": [
              "RandomForestRegressor(bootstrap=True, ccp_alpha=0.0, criterion='mse',\n",
              "                      max_depth=None, max_features='auto', max_leaf_nodes=None,\n",
              "                      max_samples=None, min_impurity_decrease=0.0,\n",
              "                      min_impurity_split=None, min_samples_leaf=1,\n",
              "                      min_samples_split=2, min_weight_fraction_leaf=0.0,\n",
              "                      n_estimators=100, n_jobs=None, oob_score=False,\n",
              "                      random_state=60, verbose=0, warm_start=False)"
            ]
          },
          "metadata": {
            "tags": []
          },
          "execution_count": 79
        }
      ]
    },
    {
      "cell_type": "markdown",
      "metadata": {
        "id": "SCN9kSOLicFE",
        "colab_type": "text"
      },
      "source": [
        "Predictions in test set"
      ]
    },
    {
      "cell_type": "code",
      "metadata": {
        "id": "aU_Y3VQNLbym",
        "colab_type": "code",
        "colab": {}
      },
      "source": [
        "y_pred=np.around(model.predict(features_test))\n",
        "y_pred = limiting(y_pred)"
      ],
      "execution_count": 0,
      "outputs": []
    },
    {
      "cell_type": "markdown",
      "metadata": {
        "id": "owoGTv5u-GEs",
        "colab_type": "text"
      },
      "source": [
        "Submission file"
      ]
    },
    {
      "cell_type": "code",
      "metadata": {
        "id": "f-veLpwdqYze",
        "colab_type": "code",
        "outputId": "7ee51e8b-2a19-49f2-82ac-fc562b038a44",
        "colab": {
          "base_uri": "https://localhost:8080/",
          "height": 202
        }
      },
      "source": [
        "submission=pd.DataFrame(test[['building_id']])\n",
        "submission['damage_grade']=np.around(y_pred)\n",
        "submission.head(5)"
      ],
      "execution_count": 82,
      "outputs": [
        {
          "output_type": "execute_result",
          "data": {
            "text/html": [
              "<div>\n",
              "<style scoped>\n",
              "    .dataframe tbody tr th:only-of-type {\n",
              "        vertical-align: middle;\n",
              "    }\n",
              "\n",
              "    .dataframe tbody tr th {\n",
              "        vertical-align: top;\n",
              "    }\n",
              "\n",
              "    .dataframe thead th {\n",
              "        text-align: right;\n",
              "    }\n",
              "</style>\n",
              "<table border=\"1\" class=\"dataframe\">\n",
              "  <thead>\n",
              "    <tr style=\"text-align: right;\">\n",
              "      <th></th>\n",
              "      <th>building_id</th>\n",
              "      <th>damage_grade</th>\n",
              "    </tr>\n",
              "  </thead>\n",
              "  <tbody>\n",
              "    <tr>\n",
              "      <th>0</th>\n",
              "      <td>680648</td>\n",
              "      <td>2.0</td>\n",
              "    </tr>\n",
              "    <tr>\n",
              "      <th>1</th>\n",
              "      <td>339540</td>\n",
              "      <td>4.0</td>\n",
              "    </tr>\n",
              "    <tr>\n",
              "      <th>2</th>\n",
              "      <td>487192</td>\n",
              "      <td>5.0</td>\n",
              "    </tr>\n",
              "    <tr>\n",
              "      <th>3</th>\n",
              "      <td>571276</td>\n",
              "      <td>3.0</td>\n",
              "    </tr>\n",
              "    <tr>\n",
              "      <th>4</th>\n",
              "      <td>326396</td>\n",
              "      <td>5.0</td>\n",
              "    </tr>\n",
              "  </tbody>\n",
              "</table>\n",
              "</div>"
            ],
            "text/plain": [
              "   building_id  damage_grade\n",
              "0       680648           2.0\n",
              "1       339540           4.0\n",
              "2       487192           5.0\n",
              "3       571276           3.0\n",
              "4       326396           5.0"
            ]
          },
          "metadata": {
            "tags": []
          },
          "execution_count": 82
        }
      ]
    },
    {
      "cell_type": "code",
      "metadata": {
        "id": "c6lowthcnXCq",
        "colab_type": "code",
        "colab": {}
      },
      "source": [
        "submission.to_csv(path_to_drive+'submission.csv', index=False)"
      ],
      "execution_count": 0,
      "outputs": []
    },
    {
      "cell_type": "markdown",
      "metadata": {
        "id": "WAjhwQYxEZxa",
        "colab_type": "text"
      },
      "source": [
        "### Feature importance"
      ]
    },
    {
      "cell_type": "code",
      "metadata": {
        "id": "gRHyvzzvEbNC",
        "colab_type": "code",
        "outputId": "775304dc-a780-491f-ca50-e210036af8a1",
        "colab": {
          "base_uri": "https://localhost:8080/",
          "height": 356
        }
      },
      "source": [
        "# Extract the feature importances into a dataframe\n",
        "feature_results = pd.DataFrame({'feature': list(features_one_hot), \n",
        "                                'importance': model.feature_importances_})\n",
        "\n",
        "# Show the top 10 most important features\n",
        "feature_results = feature_results.sort_values('importance', ascending = False).reset_index(drop=True)\n",
        "feature_results.head(10)"
      ],
      "execution_count": 84,
      "outputs": [
        {
          "output_type": "execute_result",
          "data": {
            "text/html": [
              "<div>\n",
              "<style scoped>\n",
              "    .dataframe tbody tr th:only-of-type {\n",
              "        vertical-align: middle;\n",
              "    }\n",
              "\n",
              "    .dataframe tbody tr th {\n",
              "        vertical-align: top;\n",
              "    }\n",
              "\n",
              "    .dataframe thead th {\n",
              "        text-align: right;\n",
              "    }\n",
              "</style>\n",
              "<table border=\"1\" class=\"dataframe\">\n",
              "  <thead>\n",
              "    <tr style=\"text-align: right;\">\n",
              "      <th></th>\n",
              "      <th>feature</th>\n",
              "      <th>importance</th>\n",
              "    </tr>\n",
              "  </thead>\n",
              "  <tbody>\n",
              "    <tr>\n",
              "      <th>0</th>\n",
              "      <td>ward_id</td>\n",
              "      <td>0.333927</td>\n",
              "    </tr>\n",
              "    <tr>\n",
              "      <th>1</th>\n",
              "      <td>foundation_type_Mud mortar-Stone/Brick</td>\n",
              "      <td>0.162821</td>\n",
              "    </tr>\n",
              "    <tr>\n",
              "      <th>2</th>\n",
              "      <td>age_building</td>\n",
              "      <td>0.138264</td>\n",
              "    </tr>\n",
              "    <tr>\n",
              "      <th>3</th>\n",
              "      <td>household_count</td>\n",
              "      <td>0.073635</td>\n",
              "    </tr>\n",
              "    <tr>\n",
              "      <th>4</th>\n",
              "      <td>has_superstructure_mud_mortar_stone</td>\n",
              "      <td>0.027358</td>\n",
              "    </tr>\n",
              "    <tr>\n",
              "      <th>5</th>\n",
              "      <td>count_families</td>\n",
              "      <td>0.019486</td>\n",
              "    </tr>\n",
              "    <tr>\n",
              "      <th>6</th>\n",
              "      <td>count_floors_pre_eq</td>\n",
              "      <td>0.018491</td>\n",
              "    </tr>\n",
              "    <tr>\n",
              "      <th>7</th>\n",
              "      <td>avg_hh_size</td>\n",
              "      <td>0.018459</td>\n",
              "    </tr>\n",
              "    <tr>\n",
              "      <th>8</th>\n",
              "      <td>has_superstructure_cement_mortar_brick</td>\n",
              "      <td>0.017981</td>\n",
              "    </tr>\n",
              "    <tr>\n",
              "      <th>9</th>\n",
              "      <td>has_superstructure_timber</td>\n",
              "      <td>0.011062</td>\n",
              "    </tr>\n",
              "  </tbody>\n",
              "</table>\n",
              "</div>"
            ],
            "text/plain": [
              "                                  feature  importance\n",
              "0                                 ward_id    0.333927\n",
              "1  foundation_type_Mud mortar-Stone/Brick    0.162821\n",
              "2                            age_building    0.138264\n",
              "3                         household_count    0.073635\n",
              "4     has_superstructure_mud_mortar_stone    0.027358\n",
              "5                          count_families    0.019486\n",
              "6                     count_floors_pre_eq    0.018491\n",
              "7                             avg_hh_size    0.018459\n",
              "8  has_superstructure_cement_mortar_brick    0.017981\n",
              "9               has_superstructure_timber    0.011062"
            ]
          },
          "metadata": {
            "tags": []
          },
          "execution_count": 84
        }
      ]
    },
    {
      "cell_type": "code",
      "metadata": {
        "id": "OgwV5AAHbXBf",
        "colab_type": "code",
        "outputId": "b6364755-5291-4222-94f3-fa1f778631e4",
        "colab": {
          "base_uri": "https://localhost:8080/",
          "height": 121
        }
      },
      "source": [
        "from sklearn import tree\n",
        "regressor = tree.DecisionTreeRegressor(max_depth=3)  # limit depth of tree\n",
        "regressor.fit(features, target.values.ravel())"
      ],
      "execution_count": 88,
      "outputs": [
        {
          "output_type": "execute_result",
          "data": {
            "text/plain": [
              "DecisionTreeRegressor(ccp_alpha=0.0, criterion='mse', max_depth=3,\n",
              "                      max_features=None, max_leaf_nodes=None,\n",
              "                      min_impurity_decrease=0.0, min_impurity_split=None,\n",
              "                      min_samples_leaf=1, min_samples_split=2,\n",
              "                      min_weight_fraction_leaf=0.0, presort='deprecated',\n",
              "                      random_state=None, splitter='best')"
            ]
          },
          "metadata": {
            "tags": []
          },
          "execution_count": 88
        }
      ]
    },
    {
      "cell_type": "code",
      "metadata": {
        "id": "YyloVTiGetvE",
        "colab_type": "code",
        "outputId": "20476fb3-1867-492c-ad90-ac16bdcc1b9a",
        "colab": {
          "base_uri": "https://localhost:8080/",
          "height": 534
        }
      },
      "source": [
        "from sklearn.externals.six import StringIO  \n",
        "from IPython.display import Image  \n",
        "from sklearn.tree import export_graphviz\n",
        "import pydotplus\n",
        "\n",
        "dot_data = StringIO()\n",
        "\n",
        "export_graphviz(regressor, out_file=dot_data,  \n",
        "                filled=True, rounded=True, feature_names = list(features_one_hot),\n",
        "                      max_depth = 3)\n",
        "\n",
        "graph = pydotplus.graph_from_dot_data(dot_data.getvalue())  \n",
        "Image(graph.create_png())"
      ],
      "execution_count": 89,
      "outputs": [
        {
          "output_type": "execute_result",
          "data": {
            "image/png": "[encoded data removed]",
            "text/plain": [
              "<IPython.core.display.Image object>"
            ]
          },
          "metadata": {
            "tags": []
          },
          "execution_count": 89
        }
      ]
    },
    {
      "cell_type": "markdown",
      "metadata": {
        "id": "VgpFvX4M4wCx",
        "colab_type": "text"
      },
      "source": [
        "Re-running model with only 10 most important features"
      ]
    },
    {
      "cell_type": "code",
      "metadata": {
        "id": "TJR0z31e4vTP",
        "colab_type": "code",
        "outputId": "3b7bff47-a8d6-477b-cbbf-0a93f6ab03f8",
        "colab": {
          "base_uri": "https://localhost:8080/",
          "height": 52
        }
      },
      "source": [
        "# Extract the names of the most important features\n",
        "most_important_features = feature_results['feature'][:10]\n",
        "\n",
        "# Find the index that corresponds to each feature name\n",
        "indices = [list(features_one_hot.columns).index(x) for x in most_important_features]\n",
        "\n",
        "# Keep only the most important features\n",
        "features_reduced = features[:, indices]\n",
        "features_test_reduced = features_test[:, indices]\n",
        "\n",
        "print('Most important training features shape: ', features_reduced.shape)\n",
        "print('Most important testing  features shape: ', features_test_reduced.shape)"
      ],
      "execution_count": 90,
      "outputs": [
        {
          "output_type": "stream",
          "text": [
            "Most important training features shape:  (512979, 10)\n",
            "Most important testing  features shape:  (221117, 10)\n"
          ],
          "name": "stdout"
        }
      ]
    },
    {
      "cell_type": "code",
      "metadata": {
        "id": "4nE-wVeA6MoT",
        "colab_type": "code",
        "colab": {}
      },
      "source": [
        "model.fit(features_reduced, target.values.ravel())\n",
        "\n",
        "y_pred=np.around(model.predict(features_test_reduced))\n",
        "\n",
        "for i in range(len(y_pred)):\n",
        "  if y_pred[i] == 0:\n",
        "    y_pred[i] = 1\n",
        "  if y_pred[i] == 6:\n",
        "    y_pred[i]=5\n",
        "\n",
        "submission=pd.DataFrame(test[['building_id']])\n",
        "submission['damage_grade']=np.around(y_pred)\n",
        "\n",
        "#submission.to_csv(path_to_drive+'test10.csv', index=False)"
      ],
      "execution_count": 0,
      "outputs": []
    }
  ]
}